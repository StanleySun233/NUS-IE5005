{
 "cells": [
  {
   "metadata": {},
   "cell_type": "markdown",
   "source": "# Question 7",
   "id": "a13f6777beaa069e"
  },
  {
   "metadata": {
    "collapsed": true,
    "ExecuteTime": {
     "end_time": "2024-08-31T08:05:17.084141Z",
     "start_time": "2024-08-31T08:05:17.065143Z"
    }
   },
   "cell_type": "code",
   "source": [
    "import numpy as np\n",
    "import pandas as pd\n",
    "import matplotlib.pyplot as plt\n",
    "import seaborn as sns\n",
    "import sqlite3"
   ],
   "id": "initial_id",
   "outputs": [],
   "execution_count": 7
  },
  {
   "metadata": {
    "ExecuteTime": {
     "end_time": "2024-09-24T09:29:04.786700Z",
     "start_time": "2024-09-24T09:29:03.350495Z"
    }
   },
   "cell_type": "code",
   "source": [
    "df = pd.read_csv(\"gapminderhealth.csv\")\n",
    "df.head()"
   ],
   "id": "452ad37740763cc5",
   "outputs": [
    {
     "ename": "NameError",
     "evalue": "name 'pd' is not defined",
     "output_type": "error",
     "traceback": [
      "\u001B[1;31m---------------------------------------------------------------------------\u001B[0m",
      "\u001B[1;31mNameError\u001B[0m                                 Traceback (most recent call last)",
      "Cell \u001B[1;32mIn[1], line 1\u001B[0m\n\u001B[1;32m----> 1\u001B[0m df \u001B[38;5;241m=\u001B[39m \u001B[43mpd\u001B[49m\u001B[38;5;241m.\u001B[39mread_csv(\u001B[38;5;124m\"\u001B[39m\u001B[38;5;124mgapminderhealth.csv\u001B[39m\u001B[38;5;124m\"\u001B[39m,header\u001B[38;5;241m=\u001B[39m\u001B[38;5;28;01mNone\u001B[39;00m)\n\u001B[0;32m      2\u001B[0m df\u001B[38;5;241m.\u001B[39mhead()\n",
      "\u001B[1;31mNameError\u001B[0m: name 'pd' is not defined"
     ]
    }
   ],
   "execution_count": 1
  },
  {
   "metadata": {
    "ExecuteTime": {
     "end_time": "2024-08-31T08:05:36.186153Z",
     "start_time": "2024-08-31T08:05:36.123139Z"
    }
   },
   "cell_type": "code",
   "source": "df.to_sql(\"gmh\",sqlite3.Connection(\"data.db\"))",
   "id": "79d7476723ca678d",
   "outputs": [
    {
     "data": {
      "text/plain": [
       "6004"
      ]
     },
     "execution_count": 10,
     "metadata": {},
     "output_type": "execute_result"
    }
   ],
   "execution_count": 10
  },
  {
   "metadata": {
    "ExecuteTime": {
     "end_time": "2024-08-31T08:12:52.172503Z",
     "start_time": "2024-08-31T08:12:52.148501Z"
    }
   },
   "cell_type": "code",
   "source": [
    "df2008 = df[df[\"Year\"]==2008][[\"Country\",\"Gender\",\"Stomach Cancer\"]]\n",
    "df2008"
   ],
   "id": "66438718c1cf148b",
   "outputs": [
    {
     "data": {
      "text/plain": [
       "                  Country Gender  Stomach Cancer\n",
       "2844          Afghanistan  women          911.00\n",
       "2845              Albania  women          138.00\n",
       "2846              Algeria  women          372.00\n",
       "2847               Angola  women          253.00\n",
       "2848  Antigua and Barbuda  women            2.20\n",
       "...                   ...    ...             ...\n",
       "5999           Uzbekistan    men         1340.00\n",
       "6000              Vanuatu    men            7.43\n",
       "6001                Yemen    men          406.00\n",
       "6002               Zambia    men          279.00\n",
       "6003             Zimbabwe    men          351.00\n",
       "\n",
       "[316 rows x 3 columns]"
      ],
      "text/html": [
       "<div>\n",
       "<style scoped>\n",
       "    .dataframe tbody tr th:only-of-type {\n",
       "        vertical-align: middle;\n",
       "    }\n",
       "\n",
       "    .dataframe tbody tr th {\n",
       "        vertical-align: top;\n",
       "    }\n",
       "\n",
       "    .dataframe thead th {\n",
       "        text-align: right;\n",
       "    }\n",
       "</style>\n",
       "<table border=\"1\" class=\"dataframe\">\n",
       "  <thead>\n",
       "    <tr style=\"text-align: right;\">\n",
       "      <th></th>\n",
       "      <th>Country</th>\n",
       "      <th>Gender</th>\n",
       "      <th>Stomach Cancer</th>\n",
       "    </tr>\n",
       "  </thead>\n",
       "  <tbody>\n",
       "    <tr>\n",
       "      <th>2844</th>\n",
       "      <td>Afghanistan</td>\n",
       "      <td>women</td>\n",
       "      <td>911.00</td>\n",
       "    </tr>\n",
       "    <tr>\n",
       "      <th>2845</th>\n",
       "      <td>Albania</td>\n",
       "      <td>women</td>\n",
       "      <td>138.00</td>\n",
       "    </tr>\n",
       "    <tr>\n",
       "      <th>2846</th>\n",
       "      <td>Algeria</td>\n",
       "      <td>women</td>\n",
       "      <td>372.00</td>\n",
       "    </tr>\n",
       "    <tr>\n",
       "      <th>2847</th>\n",
       "      <td>Angola</td>\n",
       "      <td>women</td>\n",
       "      <td>253.00</td>\n",
       "    </tr>\n",
       "    <tr>\n",
       "      <th>2848</th>\n",
       "      <td>Antigua and Barbuda</td>\n",
       "      <td>women</td>\n",
       "      <td>2.20</td>\n",
       "    </tr>\n",
       "    <tr>\n",
       "      <th>...</th>\n",
       "      <td>...</td>\n",
       "      <td>...</td>\n",
       "      <td>...</td>\n",
       "    </tr>\n",
       "    <tr>\n",
       "      <th>5999</th>\n",
       "      <td>Uzbekistan</td>\n",
       "      <td>men</td>\n",
       "      <td>1340.00</td>\n",
       "    </tr>\n",
       "    <tr>\n",
       "      <th>6000</th>\n",
       "      <td>Vanuatu</td>\n",
       "      <td>men</td>\n",
       "      <td>7.43</td>\n",
       "    </tr>\n",
       "    <tr>\n",
       "      <th>6001</th>\n",
       "      <td>Yemen</td>\n",
       "      <td>men</td>\n",
       "      <td>406.00</td>\n",
       "    </tr>\n",
       "    <tr>\n",
       "      <th>6002</th>\n",
       "      <td>Zambia</td>\n",
       "      <td>men</td>\n",
       "      <td>279.00</td>\n",
       "    </tr>\n",
       "    <tr>\n",
       "      <th>6003</th>\n",
       "      <td>Zimbabwe</td>\n",
       "      <td>men</td>\n",
       "      <td>351.00</td>\n",
       "    </tr>\n",
       "  </tbody>\n",
       "</table>\n",
       "<p>316 rows × 3 columns</p>\n",
       "</div>"
      ]
     },
     "execution_count": 13,
     "metadata": {},
     "output_type": "execute_result"
    }
   ],
   "execution_count": 13
  },
  {
   "metadata": {
    "ExecuteTime": {
     "end_time": "2024-08-31T08:15:04.927172Z",
     "start_time": "2024-08-31T08:15:04.916174Z"
    }
   },
   "cell_type": "code",
   "source": [
    "sheet = {}\n",
    "for i in df2008.values.tolist():\n",
    "    if i[0] not in sheet.keys():\n",
    "        sheet[i[0]] = [0,0]\n",
    "    if i[1] == 'women':\n",
    "        sheet[i[0]][1] = i[2]\n",
    "    else:\n",
    "        sheet[i[0]][0] = i[2]\n",
    "print(sheet)"
   ],
   "id": "6d5595a72ec36540",
   "outputs": [
    {
     "name": "stdout",
     "output_type": "stream",
     "text": [
      "{'Afghanistan': [951.0, 911.0], 'Albania': [297.0, 138.0], 'Algeria': [570.0, 372.0], 'Angola': [284.0, 253.0], 'Antigua and Barbuda': [5.2, 2.2], 'Argentina': [3290.0, 1670.0], 'Armenia': [334.0, 192.0], 'Australia': [1840.0, 1160.0], 'Austria': [973.0, 741.0], 'Azerbaijan': [977.0, 528.0], 'Bahamas': [19.0, 12.0], 'Bahrain': [14.0, 9.17], 'Bangladesh': [3880.0, 2600.0], 'Barbados': [29.0, 14.7], 'Belarus': [1720.0, 1280.0], 'Belgium': [1030.0, 634.0], 'Belize': [9.9, 5.58], 'Benin': [198.0, 144.0], 'Bhutan': [12.9, 9.36], 'Bosnia and Herzegovina': [369.0, 215.0], 'Botswana': [34.9, 20.5], 'Brazil': [13200.0, 6080.0], 'Bulgaria': [1210.0, 666.0], 'Burkina Faso': [274.0, 290.0], 'Burundi': [155.0, 124.0], 'Cambodia': [389.0, 372.0], 'Cameroon': [471.0, 373.0], 'Canada': [3100.0, 2420.0], 'Central African Republic': [176.0, 99.5], 'Chad': [237.0, 171.0], 'Chile': [2320.0, 1140.0], 'China': [299000.0, 130000.0], 'Colombia': [3260.0, 2110.0], 'Comoros': [7.71, 5.24], 'Costa Rica': [427.0, 239.0], 'Croatia': [714.0, 469.0], 'Cuba': [646.0, 344.0], 'Cyprus': [56.8, 36.5], 'Denmark': [435.0, 244.0], 'Djibouti': [14.2, 7.15], 'Dominican Republic': [249.0, 169.0], 'Ecuador': [1170.0, 865.0], 'Egypt': [1230.0, 1110.0], 'El Salvador': [332.0, 309.0], 'Equatorial Guinea': [8.86, 6.77], 'Eritrea': [56.7, 48.7], 'Estonia': [219.0, 204.0], 'Ethiopia': [1350.0, 1050.0], 'Fiji': [20.1, 14.3], 'Finland': [427.0, 344.0], 'France': [5510.0, 3160.0], 'Gabon': [29.1, 26.1], 'Gambia': [16.2, 7.62], 'Georgia': [545.0, 244.0], 'Germany': [11000.0, 8280.0], 'Ghana': [232.0, 420.0], 'Greece': [1390.0, 858.0], 'Grenada': [4.28, 3.5], 'Guatemala': [790.0, 884.0], 'Guinea': [268.0, 179.0], 'Guinea-Bissau': [56.4, 39.6], 'Guyana': [21.9, 15.1], 'Haiti': [415.0, 392.0], 'Honduras': [258.0, 271.0], 'Hungary': [1210.0, 833.0], 'Iceland': [26.9, 16.4], 'India': [36500.0, 33200.0], 'Indonesia': [6240.0, 5520.0], 'Iraq': [352.0, 254.0], 'Ireland': [352.0, 221.0], 'Israel': [395.0, 267.0], 'Italy': [10800.0, 7980.0], 'Jamaica': [166.0, 93.4], 'Japan': [73700.0, 37000.0], 'Jordan': [85.3, 65.9], 'Kazakhstan': [1820.0, 1070.0], 'Kenya': [874.0, 628.0], 'Kiribati': [3.43, 1.07], 'Kuwait': [22.8, 14.1], 'Latvia': [376.0, 351.0], 'Lebanon': [167.0, 113.0], 'Lesotho': [71.4, 46.4], 'Liberia': [81.1, 74.9], 'Libya': [95.1, 62.3], 'Lithuania': [565.0, 476.0], 'Luxembourg': [53.8, 30.5], 'Madagascar': [304.0, 198.0], 'Malawi': [142.0, 88.0], 'Malaysia': [616.0, 421.0], 'Maldives': [3.33, 1.9], 'Mali': [368.0, 392.0], 'Malta': [34.0, 18.2], 'Mauritania': [46.1, 51.6], 'Mauritius': [63.2, 34.6], 'Mexico': [4540.0, 3640.0], 'Mongolia': [410.0, 229.0], 'Montenegro': [39.0, 17.3], 'Morocco': [586.0, 448.0], 'Mozambique': [450.0, 310.0], 'Myanmar': [1760.0, 1440.0], 'Namibia': [15.9, 12.6], 'Nepal': [757.0, 698.0], 'Netherlands': [2100.0, 1390.0], 'New Zealand': [277.0, 190.0], 'Nicaragua': [176.0, 134.0], 'Niger': [326.0, 219.0], 'Nigeria': [1140.0, 976.0], 'Norway': [349.0, 254.0], 'Oman': [35.0, 22.5], 'Pakistan': [3880.0, 2030.0], 'Panama': [236.0, 154.0], 'Papua New Guinea': [236.0, 187.0], 'Paraguay': [274.0, 135.0], 'Peru': [1960.0, 1610.0], 'Philippines': [1330.0, 926.0], 'Poland': [4110.0, 2050.0], 'Portugal': [1900.0, 1290.0], 'Qatar': [14.4, 5.69], 'Romania': [2650.0, 1270.0], 'Rwanda': [111.0, 88.0], 'Samoa': [5.67, 3.21], 'Sao Tome and Principe': [5.34, 4.96], 'Saudi Arabia': [262.0, 197.0], 'Senegal': [252.0, 209.0], 'Serbia': [996.0, 489.0], 'Seychelles': [3.12, 1.58], 'Sierra Leone': [151.0, 125.0], 'Singapore': [405.0, 216.0], 'Slovenia': [311.0, 182.0], 'Solomon Islands': [17.7, 12.4], 'Somalia': [172.0, 142.0], 'South Africa': [1100.0, 794.0], 'Spain': [6110.0, 3610.0], 'Sri Lanka': [488.0, 388.0], 'Sudan': [623.0, 586.0], 'Suriname': [16.0, 9.94], 'Sweden': [669.0, 475.0], 'Switzerland': [620.0, 395.0], 'Tajikistan': [366.0, 241.0], 'Thailand': [2120.0, 1580.0], 'Timor-Leste': [15.6, 15.1], 'Togo': [153.0, 97.8], 'Tonga': [6.38, 3.59], 'Trinidad and Tobago': [48.7, 26.4], 'Tunisia': [282.0, 170.0], 'Turkey': [3670.0, 1930.0], 'Turkmenistan': [216.0, 113.0], 'Uganda': [403.0, 283.0], 'Ukraine': [8940.0, 6360.0], 'United Arab Emirates': [63.0, 21.9], 'United Kingdom': [5990.0, 3640.0], 'United States': [15700.0, 10800.0], 'Uruguay': [447.0, 232.0], 'Uzbekistan': [1340.0, 890.0], 'Vanuatu': [7.43, 4.71], 'Yemen': [406.0, 394.0], 'Zambia': [279.0, 157.0], 'Zimbabwe': [351.0, 343.0]}\n"
     ]
    }
   ],
   "execution_count": 14
  },
  {
   "metadata": {
    "ExecuteTime": {
     "end_time": "2024-08-31T08:16:15.714173Z",
     "start_time": "2024-08-31T08:16:15.699177Z"
    }
   },
   "cell_type": "code",
   "source": [
    "for i in sheet.keys():\n",
    "    if sheet[i][0] <= sheet[i][1]:\n",
    "        print(i)"
   ],
   "id": "76e2bf145092f10e",
   "outputs": [
    {
     "name": "stdout",
     "output_type": "stream",
     "text": [
      "Burkina Faso\n",
      "Ghana\n",
      "Guatemala\n",
      "Honduras\n",
      "Mali\n",
      "Mauritania\n"
     ]
    }
   ],
   "execution_count": 17
  },
  {
   "metadata": {},
   "cell_type": "code",
   "outputs": [],
   "execution_count": null,
   "source": "",
   "id": "50a3e594bc657fab"
  }
 ],
 "metadata": {
  "kernelspec": {
   "display_name": "Python 3",
   "language": "python",
   "name": "python3"
  },
  "language_info": {
   "codemirror_mode": {
    "name": "ipython",
    "version": 2
   },
   "file_extension": ".py",
   "mimetype": "text/x-python",
   "name": "python",
   "nbconvert_exporter": "python",
   "pygments_lexer": "ipython2",
   "version": "2.7.6"
  }
 },
 "nbformat": 4,
 "nbformat_minor": 5
}
