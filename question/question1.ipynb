{
 "cells": [
  {
   "metadata": {},
   "cell_type": "markdown",
   "source": [
    "Question: can `print` define as value(parameter)?\n",
    "\n",
    "Answer: During real work, it can. But no one will do it.\n",
    "\n",
    "When seeing this in quiz or final, consider it as invalid one.\n",
    "\n",
    "check if the word is keyword."
   ],
   "id": "188399ebb571d303"
  },
  {
   "metadata": {
    "ExecuteTime": {
     "end_time": "2024-08-26T08:07:13.987869Z",
     "start_time": "2024-08-26T08:07:13.944301Z"
    }
   },
   "cell_type": "code",
   "outputs": [
    {
     "name": "stdout",
     "output_type": "stream",
     "text": [
      "print False\n",
      "def True\n"
     ]
    }
   ],
   "execution_count": 1,
   "source": [
    "import keyword\n",
    "print('print',keyword.iskeyword(\"print\"))\n",
    "print('def',keyword.iskeyword(\"def\"))"
   ],
   "id": "652f9b7b15697550"
  },
  {
   "metadata": {},
   "cell_type": "markdown",
   "source": "When consider `print` as call of function, using `fun` to reference it.",
   "id": "d1997d2a0491e5dc"
  },
  {
   "metadata": {
    "collapsed": true,
    "ExecuteTime": {
     "end_time": "2024-08-26T08:07:14.160420Z",
     "start_time": "2024-08-26T08:07:14.134490Z"
    }
   },
   "cell_type": "code",
   "source": [
    "fun = print\n",
    "print = \"Hello World\"\n",
    "fun(print)"
   ],
   "id": "initial_id",
   "outputs": [
    {
     "name": "stdout",
     "output_type": "stream",
     "text": [
      "Hello World\n"
     ]
    }
   ],
   "execution_count": 2
  },
  {
   "metadata": {},
   "cell_type": "markdown",
   "source": [
    "Then, set `print` as string 'Hello World', `fun(print)` will output \"Hello World\".\n",
    "\n",
    "As def is keyword, it could not defined as value.\n",
    "\n",
    "The cell will return error instead."
   ],
   "id": "19ad37bcc4363cd5"
  },
  {
   "metadata": {
    "ExecuteTime": {
     "end_time": "2024-08-26T08:07:14.530430Z",
     "start_time": "2024-08-26T08:07:14.510483Z"
    }
   },
   "cell_type": "code",
   "source": [
    "def = 5\n",
    "fun(def)"
   ],
   "id": "a2b49ae42bdf46fb",
   "outputs": [
    {
     "ename": "SyntaxError",
     "evalue": "invalid syntax (1669211643.py, line 1)",
     "output_type": "error",
     "traceback": [
      "\u001B[1;36m  Cell \u001B[1;32mIn[3], line 1\u001B[1;36m\u001B[0m\n\u001B[1;33m    def = 5\u001B[0m\n\u001B[1;37m        ^\u001B[0m\n\u001B[1;31mSyntaxError\u001B[0m\u001B[1;31m:\u001B[0m invalid syntax\n"
     ]
    }
   ],
   "execution_count": 3
  },
  {
   "metadata": {},
   "cell_type": "code",
   "outputs": [],
   "execution_count": null,
   "source": "",
   "id": "ea7596ea379744b6"
  }
 ],
 "metadata": {
  "kernelspec": {
   "display_name": "Python 3",
   "language": "python",
   "name": "python3"
  },
  "language_info": {
   "codemirror_mode": {
    "name": "ipython",
    "version": 2
   },
   "file_extension": ".py",
   "mimetype": "text/x-python",
   "name": "python",
   "nbconvert_exporter": "python",
   "pygments_lexer": "ipython2",
   "version": "2.7.6"
  }
 },
 "nbformat": 4,
 "nbformat_minor": 5
}
